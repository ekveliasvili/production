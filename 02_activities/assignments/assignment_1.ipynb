{
 "cells": [
  {
   "cell_type": "markdown",
   "metadata": {},
   "source": [
    "# Working with parquet files\n",
    "\n",
    "## Objective\n",
    "\n",
    "+ In this assignment, we will use the data downloaded with the module `data_manager` to create features.\n",
    "\n",
    "(11 pts total)\n",
    "\n",
    "## Prerequisites\n",
    "\n",
    "+ This notebook assumes that price data is available to you in the environment variable `PRICE_DATA`. If you have not done so, then execute the notebook `01_materials/labs/2_data_engineering.ipynb` to create this data set.\n"
   ]
  },
  {
   "cell_type": "markdown",
   "metadata": {},
   "source": [
    "+ Load the environment variables using dotenv. (1 pt)"
   ]
  },
  {
   "cell_type": "code",
   "execution_count": 23,
   "metadata": {},
   "outputs": [
    {
     "name": "stdout",
     "output_type": "stream",
     "text": [
      "The dotenv extension is already loaded. To reload it, use:\n",
      "  %reload_ext dotenv\n"
     ]
    }
   ],
   "source": [
    "%load_ext dotenv\n",
    "%dotenv\n",
    "\n",
    "\n"
   ]
  },
  {
   "cell_type": "code",
   "execution_count": 24,
   "metadata": {},
   "outputs": [],
   "source": [
    "import dask.dataframe as dd"
   ]
  },
  {
   "cell_type": "markdown",
   "metadata": {},
   "source": [
    "+ Load the environment variable `PRICE_DATA`.\n",
    "+ Use [glob](https://docs.python.org/3/library/glob.html) to find the path of all parquet files in the directory `PRICE_DATA`.\n",
    "\n",
    "(1pt)"
   ]
  },
  {
   "cell_type": "code",
   "execution_count": 25,
   "metadata": {},
   "outputs": [],
   "source": [
    "import os\n",
    "from glob import glob\n",
    "\n",
    "# get path to the price data \n",
    "price_data_dir = os.getenv(\"PRICE_DATA\")\n",
    "\n",
    "# access th ecollection of all files\n",
    "price_files = glob(os.path.join(price_data_dir, \"**/*.parquet\"), recursive= True)\n",
    "\n"
   ]
  },
  {
   "cell_type": "markdown",
   "metadata": {},
   "source": [
    "For each ticker and using Dask, do the following:\n",
    "\n",
    "+ Add lags for variables Close and Adj_Close.\n",
    "+ Add returns based on Close:\n",
    "    \n",
    "    - `returns`: (Close / Close_lag_1) - 1\n",
    "\n",
    "+ Add the following range: \n",
    "\n",
    "    - `hi_lo_range`: this is the day's High minus Low.\n",
    "\n",
    "+ Assign the result to `dd_feat`.\n",
    "\n",
    "(4 pt)"
   ]
  },
  {
   "cell_type": "code",
   "execution_count": 26,
   "metadata": {},
   "outputs": [
    {
     "name": "stderr",
     "output_type": "stream",
     "text": [
      "/var/folders/_h/6ltmmtqn4m3d309fyknwb98c0000gn/T/ipykernel_94681/2342129137.py:5: UserWarning: `meta` is not specified, inferred from partial data. Please provide `meta` if the result is unexpected.\n",
      "  Before: .apply(func)\n",
      "  After:  .apply(func, meta={'x': 'f8', 'y': 'f8'}) for dataframe result\n",
      "  or:     .apply(func, meta=('x', 'f8'))            for series result\n",
      "  dd_shift = dd_price.groupby(\"Ticker\", group_keys=False).apply(\n"
     ]
    }
   ],
   "source": [
    "# we read parquet file\n",
    "dd_price = dd.read_parquet(price_files).set_index(\"Ticker\")\n",
    "\n",
    "# add new column as Close_lag_1 \n",
    "dd_shift = dd_price.groupby(\"Ticker\", group_keys=False).apply(\n",
    "    lambda x: x.assign(Close_lag_1 = x[\"Close\"].shift(1))\n",
    ")\n",
    "\n",
    "# add return calculation\n",
    "dd_returns = dd_shift.assign(\n",
    "    retuns = lambda x: x[\"Close\"]/x[\"Close_lag_1\"]-1\n",
    ")\n",
    "\n",
    "# add Hi and Lo range\n",
    "dd_feat = dd_returns.assign(\n",
    "    hi_lo_range = lambda x: x[\"High\"] - x[\"Low\"]\n",
    ")\n",
    "\n"
   ]
  },
  {
   "cell_type": "markdown",
   "metadata": {},
   "source": [
    "+ Convert the Dask data frame to a pandas data frame. \n",
    "+ Add a new feature containing the moving average of `returns` using a window of 10 days. There are several ways to solve this task, a simple one uses `.rolling(10).mean()`.\n",
    "\n",
    "(3 pt)"
   ]
  },
  {
   "cell_type": "code",
   "execution_count": 27,
   "metadata": {},
   "outputs": [
    {
     "data": {
      "text/html": [
       "<div>\n",
       "<style scoped>\n",
       "    .dataframe tbody tr th:only-of-type {\n",
       "        vertical-align: middle;\n",
       "    }\n",
       "\n",
       "    .dataframe tbody tr th {\n",
       "        vertical-align: top;\n",
       "    }\n",
       "\n",
       "    .dataframe thead th {\n",
       "        text-align: right;\n",
       "    }\n",
       "</style>\n",
       "<table border=\"1\" class=\"dataframe\">\n",
       "  <thead>\n",
       "    <tr style=\"text-align: right;\">\n",
       "      <th>Price</th>\n",
       "      <th>Date</th>\n",
       "      <th>Adj Close</th>\n",
       "      <th>Close</th>\n",
       "      <th>High</th>\n",
       "      <th>Low</th>\n",
       "      <th>Open</th>\n",
       "      <th>Volume</th>\n",
       "      <th>Year</th>\n",
       "      <th>Close_lag_1</th>\n",
       "      <th>retuns</th>\n",
       "      <th>hi_lo_range</th>\n",
       "      <th>ma_returns</th>\n",
       "    </tr>\n",
       "    <tr>\n",
       "      <th>Ticker</th>\n",
       "      <th></th>\n",
       "      <th></th>\n",
       "      <th></th>\n",
       "      <th></th>\n",
       "      <th></th>\n",
       "      <th></th>\n",
       "      <th></th>\n",
       "      <th></th>\n",
       "      <th></th>\n",
       "      <th></th>\n",
       "      <th></th>\n",
       "      <th></th>\n",
       "    </tr>\n",
       "  </thead>\n",
       "  <tbody>\n",
       "    <tr>\n",
       "      <th>DOV</th>\n",
       "      <td>2010-01-04</td>\n",
       "      <td>21.331858</td>\n",
       "      <td>28.395418</td>\n",
       "      <td>28.395418</td>\n",
       "      <td>27.906073</td>\n",
       "      <td>28.100470</td>\n",
       "      <td>1859815.0</td>\n",
       "      <td>2010</td>\n",
       "      <td>NaN</td>\n",
       "      <td>NaN</td>\n",
       "      <td>0.489346</td>\n",
       "      <td>NaN</td>\n",
       "    </tr>\n",
       "    <tr>\n",
       "      <th>DOV</th>\n",
       "      <td>2010-01-05</td>\n",
       "      <td>21.231140</td>\n",
       "      <td>28.261351</td>\n",
       "      <td>28.361900</td>\n",
       "      <td>28.120581</td>\n",
       "      <td>28.328384</td>\n",
       "      <td>1272199.0</td>\n",
       "      <td>2010</td>\n",
       "      <td>28.395418</td>\n",
       "      <td>-0.004721</td>\n",
       "      <td>0.241320</td>\n",
       "      <td>NaN</td>\n",
       "    </tr>\n",
       "    <tr>\n",
       "      <th>DOV</th>\n",
       "      <td>2010-01-06</td>\n",
       "      <td>21.482927</td>\n",
       "      <td>28.596518</td>\n",
       "      <td>28.636738</td>\n",
       "      <td>28.087063</td>\n",
       "      <td>28.254646</td>\n",
       "      <td>1852654.0</td>\n",
       "      <td>2010</td>\n",
       "      <td>28.261351</td>\n",
       "      <td>0.011860</td>\n",
       "      <td>0.549675</td>\n",
       "      <td>NaN</td>\n",
       "    </tr>\n",
       "    <tr>\n",
       "      <th>DOV</th>\n",
       "      <td>2010-01-07</td>\n",
       "      <td>21.956301</td>\n",
       "      <td>29.226633</td>\n",
       "      <td>29.568504</td>\n",
       "      <td>28.710476</td>\n",
       "      <td>28.710476</td>\n",
       "      <td>1959317.0</td>\n",
       "      <td>2010</td>\n",
       "      <td>28.596518</td>\n",
       "      <td>0.022035</td>\n",
       "      <td>0.858028</td>\n",
       "      <td>NaN</td>\n",
       "    </tr>\n",
       "    <tr>\n",
       "      <th>DOV</th>\n",
       "      <td>2010-01-08</td>\n",
       "      <td>22.585787</td>\n",
       "      <td>30.064552</td>\n",
       "      <td>30.077959</td>\n",
       "      <td>28.971907</td>\n",
       "      <td>29.199820</td>\n",
       "      <td>2190843.0</td>\n",
       "      <td>2010</td>\n",
       "      <td>29.226633</td>\n",
       "      <td>0.028670</td>\n",
       "      <td>1.106052</td>\n",
       "      <td>NaN</td>\n",
       "    </tr>\n",
       "  </tbody>\n",
       "</table>\n",
       "</div>"
      ],
      "text/plain": [
       "Price        Date  Adj Close      Close       High        Low       Open  \\\n",
       "Ticker                                                                     \n",
       "DOV    2010-01-04  21.331858  28.395418  28.395418  27.906073  28.100470   \n",
       "DOV    2010-01-05  21.231140  28.261351  28.361900  28.120581  28.328384   \n",
       "DOV    2010-01-06  21.482927  28.596518  28.636738  28.087063  28.254646   \n",
       "DOV    2010-01-07  21.956301  29.226633  29.568504  28.710476  28.710476   \n",
       "DOV    2010-01-08  22.585787  30.064552  30.077959  28.971907  29.199820   \n",
       "\n",
       "Price      Volume  Year  Close_lag_1    retuns  hi_lo_range  ma_returns  \n",
       "Ticker                                                                   \n",
       "DOV     1859815.0  2010          NaN       NaN     0.489346         NaN  \n",
       "DOV     1272199.0  2010    28.395418 -0.004721     0.241320         NaN  \n",
       "DOV     1852654.0  2010    28.261351  0.011860     0.549675         NaN  \n",
       "DOV     1959317.0  2010    28.596518  0.022035     0.858028         NaN  \n",
       "DOV     2190843.0  2010    29.226633  0.028670     1.106052         NaN  "
      ]
     },
     "execution_count": 27,
     "metadata": {},
     "output_type": "execute_result"
    }
   ],
   "source": [
    "\n",
    "# convert Dask data frame to pands\n",
    "pd_feat = dd_feat.compute()\n",
    "\n",
    "# Calculate moving average return\n",
    "pd_ma_returns = pd_feat.groupby(\"Ticker\", group_keys=False).apply(\n",
    "    lambda x: x.assign(ma_returns = x[\"retuns\"].rolling(10).mean())\n",
    ")\n",
    "\n",
    "pd_ma_returns.head()"
   ]
  },
  {
   "cell_type": "markdown",
   "metadata": {},
   "source": [
    "Please comment:\n",
    "\n",
    "+ Was it necessary to convert to pandas to calculate the moving average return?\n",
    "+ Would it have been better to do it in Dask? Why?\n",
    "\n",
    "(1 pt)"
   ]
  },
  {
   "cell_type": "markdown",
   "metadata": {},
   "source": [
    "I executed both pandas and dask frames. When I executed daskthe return was an empty table with the type of data in each column including the new one called ma_returns. When I converted dask data frane in pandas and then added the feature I think my code ran faster and the resuls was the table above with the actual records in it"
   ]
  },
  {
   "cell_type": "markdown",
   "metadata": {},
   "source": [
    "## Criteria\n",
    "\n",
    "The [rubric](./assignment_1_rubric_clean.xlsx) contains the criteria for grading."
   ]
  },
  {
   "cell_type": "markdown",
   "metadata": {},
   "source": [
    "## Submission Information\n",
    "\n",
    "🚨 **Please review our [Assignment Submission Guide](https://github.com/UofT-DSI/onboarding/blob/main/onboarding_documents/submissions.md)** 🚨 for detailed instructions on how to format, branch, and submit your work. Following these guidelines is crucial for your submissions to be evaluated correctly.\n",
    "\n",
    "### Submission Parameters:\n",
    "* Submission Due Date: `HH:MM AM/PM - DD/MM/YYYY`\n",
    "* The branch name for your repo should be: `assignment-1`\n",
    "* What to submit for this assignment:\n",
    "    * This Jupyter Notebook (assignment_1.ipynb) should be populated and should be the only change in your pull request.\n",
    "* What the pull request link should look like for this assignment: `https://github.com/<your_github_username>/production/pull/<pr_id>`\n",
    "    * Open a private window in your browser. Copy and paste the link to your pull request into the address bar. Make sure you can see your pull request properly. This helps the technical facilitator and learning support staff review your submission easily.\n",
    "\n",
    "Checklist:\n",
    "- [ ] Created a branch with the correct naming convention.\n",
    "- [ ] Ensured that the repository is public.\n",
    "- [ ] Reviewed the PR description guidelines and adhered to them.\n",
    "- [ ] Verify that the link is accessible in a private browser window.\n",
    "\n",
    "If you encounter any difficulties or have questions, please don't hesitate to reach out to our team via our Slack at `#cohort-3-help`. Our Technical Facilitators and Learning Support staff are here to help you navigate any challenges."
   ]
  }
 ],
 "metadata": {
  "kernelspec": {
   "display_name": "dsi_participant",
   "language": "python",
   "name": "python3"
  },
  "language_info": {
   "codemirror_mode": {
    "name": "ipython",
    "version": 3
   },
   "file_extension": ".py",
   "mimetype": "text/x-python",
   "name": "python",
   "nbconvert_exporter": "python",
   "pygments_lexer": "ipython3",
   "version": "3.9.20"
  }
 },
 "nbformat": 4,
 "nbformat_minor": 2
}
